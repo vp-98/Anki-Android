{
  "nbformat": 4,
  "nbformat_minor": 0,
  "metadata": {
    "colab": {
      "name": "checkDiff.ipynb",
      "provenance": [],
      "collapsed_sections": []
    },
    "kernelspec": {
      "name": "python3",
      "display_name": "Python 3"
    },
    "language_info": {
      "name": "python"
    }
  },
  "cells": [
    {
      "cell_type": "code",
      "execution_count": 69,
      "metadata": {
        "id": "stRjHmhlQ2O3"
      },
      "outputs": [],
      "source": [
        "#remove the path prefix since thehy are in diff locations these always show up as different \n",
        "from pathlib import Path \n",
        "\n",
        "txt = Path('/content/pmd_output_clean.txt').read_text()\n",
        "txt = txt.replace('/Users/simranbhamra/Documents/Anki-Android/', '')\n",
        "txt = txt.replace(' ', '')\n",
        "\n",
        "txt2 = Path('/content/pmd_output_final.txt').read_text()\n",
        "txt2 = txt2.replace('/Users/simranbhamra/Documents/GitHub/Anki-Android/', '')\n",
        "txt2 = txt2.replace(' ', '')\n",
        "\n",
        "\n"
      ]
    },
    {
      "cell_type": "code",
      "source": [
        "#write clean code (no additions) to file1 \n",
        "text_file = open(\"file1.txt\", \"wt\")\n",
        "n = text_file.write(txt)\n",
        "text_file.close()\n"
      ],
      "metadata": {
        "id": "vyBWQcHmv1GA"
      },
      "execution_count": 70,
      "outputs": []
    },
    {
      "cell_type": "code",
      "source": [
        "#write code with additions to file2  \n",
        "text_file = open(\"file2.txt\", \"wt\")\n",
        "n = text_file.write(txt2)\n",
        "text_file.close()"
      ],
      "metadata": {
        "id": "WUGRG9xFwRdY"
      },
      "execution_count": 71,
      "outputs": []
    },
    {
      "cell_type": "code",
      "source": [
        "#checking the files are equal\n",
        "import filecmp\n",
        "filecmp.cmp('file1.txt', 'file1.txt')"
      ],
      "metadata": {
        "id": "WrTni54jxSSf",
        "colab": {
          "base_uri": "https://localhost:8080/"
        },
        "outputId": "c51d019a-fc41-4969-e177-b5b7a117e008"
      },
      "execution_count": 72,
      "outputs": [
        {
          "output_type": "execute_result",
          "data": {
            "text/plain": [
              "True"
            ]
          },
          "metadata": {},
          "execution_count": 72
        }
      ]
    },
    {
      "cell_type": "code",
      "source": [
        "# Importing difflib, 0 lines are printed here bc there is no diff\n",
        "import difflib\n",
        "\n",
        "with open('file1.txt') as file_1:\n",
        "\tfile_1_text = file_1.readlines()\n",
        "\n",
        "with open('file2.txt') as file_2:\n",
        "\tfile_2_text = file_2.readlines()\n",
        " \n",
        " # Find and print the diff:\n",
        "for line in difflib.unified_diff(\n",
        "\t\tfile_1_text, file_2_text, fromfile='file1.txt',\n",
        "\t\ttofile='file2.txt', lineterm=''):\n",
        "  print(line)\n"
      ],
      "metadata": {
        "id": "mrZ-DqdXwSRg"
      },
      "execution_count": 73,
      "outputs": []
    }
  ]
}